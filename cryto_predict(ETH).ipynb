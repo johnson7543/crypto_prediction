{
  "nbformat": 4,
  "nbformat_minor": 0,
  "metadata": {
    "colab": {
      "name": "cryto_predict(ETH).ipynb",
      "provenance": [],
      "authorship_tag": "ABX9TyM5CuvJRGXfnZDj8ZXJGDRd",
      "include_colab_link": true
    },
    "kernelspec": {
      "name": "python3",
      "display_name": "Python 3"
    }
  },
  "cells": [
    {
      "cell_type": "markdown",
      "metadata": {
        "id": "view-in-github",
        "colab_type": "text"
      },
      "source": [
        "<a href=\"https://colab.research.google.com/github/johnson7543/crypto_prediction/blob/main/cryto_predict(ETH).ipynb\" target=\"_parent\"><img src=\"https://colab.research.google.com/assets/colab-badge.svg\" alt=\"Open In Colab\"/></a>"
      ]
    },
    {
      "cell_type": "code",
      "metadata": {
        "id": "vv1Yo4_yy-nR"
      },
      "source": [
        "import numpy as np\r\n",
        "import matplotlib.pyplot as plt\r\n",
        "import pandas as pd\r\n",
        "import pandas_datareader as web\r\n",
        "import datetime as dt\r\n",
        "\r\n",
        "from sklearn.preprocessing import MinMaxScaler\r\n",
        "from tensorflow.keras.models import Sequential\r\n",
        "from tensorflow.keras.layers import Dense, Dropout, LSTM"
      ],
      "execution_count": null,
      "outputs": []
    },
    {
      "cell_type": "code",
      "metadata": {
        "colab": {
          "base_uri": "https://localhost:8080/"
        },
        "id": "Szx7oiYx3f88",
        "outputId": "050f6c19-8481-4426-c6f7-c4bb48ad847e"
      },
      "source": [
        "crypto = 'ETH-USD'\r\n",
        "start = dt.datetime(2012,1,1)\r\n",
        "end = dt.datetime(2021,1,1)\r\n",
        "\r\n",
        "# data = web.DataReader(company, 'yahoo', start, end)\r\n",
        "data = web.DataReader(crypto,'yahoo', start, end)\r\n",
        "print(data)"
      ],
      "execution_count": null,
      "outputs": [
        {
          "output_type": "stream",
          "text": [
            "                  High         Low  ...        Volume   Adj Close\n",
            "Date                                ...                          \n",
            "2015-08-06    3.536610    2.521120  ...  1.643290e+05    2.772120\n",
            "2015-08-07    2.798810    0.714725  ...  6.741880e+05    0.753325\n",
            "2015-08-08    0.879810    0.629191  ...  5.321700e+05    0.701897\n",
            "2015-08-09    0.729854    0.636546  ...  4.052830e+05    0.708448\n",
            "2015-08-10    1.131410    0.663235  ...  1.463100e+06    1.067860\n",
            "...                ...         ...  ...           ...         ...\n",
            "2020-12-29  737.952881  692.149414  ...  1.871068e+10  731.520142\n",
            "2020-12-30  754.303223  720.988892  ...  1.729457e+10  751.618958\n",
            "2020-12-31  754.299438  726.511902  ...  1.392685e+10  737.803406\n",
            "2021-01-01  749.201843  719.792236  ...  1.365200e+10  730.367554\n",
            "2021-01-02  786.798462  718.109497  ...  1.974077e+10  774.534973\n",
            "\n",
            "[1972 rows x 6 columns]\n"
          ],
          "name": "stdout"
        }
      ]
    },
    {
      "cell_type": "code",
      "metadata": {
        "id": "3KfECytZ41Vm"
      },
      "source": [
        "scaler =MinMaxScaler(feature_range=(0,1))\r\n",
        "scaled_data = scaler.fit_transform(data['Adj Close'].values.reshape(-1,1))\r\n",
        "prediction_days = 60\r\n",
        "x_train = []\r\n",
        "y_train = []\r\n",
        "\r\n",
        "for x in range(prediction_days, len(scaled_data)):\r\n",
        "  x_train.append(scaled_data[x-prediction_days:x, 0])\r\n",
        "  y_train.append(scaled_data[x, 0])\r\n",
        "\r\n",
        "x_train, y_train = np.array(x_train), np.array(y_train)\r\n",
        "x_train = np.reshape(x_train, (x_train.shape[0], x_train.shape[1],1))"
      ],
      "execution_count": null,
      "outputs": []
    },
    {
      "cell_type": "markdown",
      "metadata": {
        "id": "a-lm2b_U6eRU"
      },
      "source": [
        "Build the model"
      ]
    },
    {
      "cell_type": "code",
      "metadata": {
        "colab": {
          "base_uri": "https://localhost:8080/"
        },
        "id": "RqggjZ6Q55Uz",
        "outputId": "dcbbfbdd-d16a-4a3e-e785-08f10dcdd36d"
      },
      "source": [
        "model = Sequential()\r\n",
        "model.add(LSTM(units=50, return_sequences=True, input_shape=(x_train.shape[1], 1)))\r\n",
        "model.add(Dropout(0.2))\r\n",
        "model.add(LSTM(units=50, return_sequences=True))\r\n",
        "model.add(Dropout(0.2))\r\n",
        "model.add(LSTM(units=50))\r\n",
        "model.add(Dropout(0.2))\r\n",
        "model.add(Dense(units=1)) # Prediction of the next closing value\r\n",
        "\r\n",
        "model.compile(optimizer='adam',loss='mean_squared_error')\r\n",
        "model.fit(x_train, y_train, epochs=25, batch_size=32)"
      ],
      "execution_count": null,
      "outputs": [
        {
          "output_type": "stream",
          "text": [
            "Epoch 1/25\n",
            "60/60 [==============================] - 10s 82ms/step - loss: 0.0174\n",
            "Epoch 2/25\n",
            "60/60 [==============================] - 5s 85ms/step - loss: 0.0022\n",
            "Epoch 3/25\n",
            "60/60 [==============================] - 5s 81ms/step - loss: 0.0023\n",
            "Epoch 4/25\n",
            "60/60 [==============================] - 5s 85ms/step - loss: 0.0019\n",
            "Epoch 5/25\n",
            "60/60 [==============================] - 5s 83ms/step - loss: 0.0015\n",
            "Epoch 6/25\n",
            "60/60 [==============================] - 5s 84ms/step - loss: 0.0018\n",
            "Epoch 7/25\n",
            "60/60 [==============================] - 5s 82ms/step - loss: 0.0019\n",
            "Epoch 8/25\n",
            "60/60 [==============================] - 5s 85ms/step - loss: 0.0015\n",
            "Epoch 9/25\n",
            "60/60 [==============================] - 5s 85ms/step - loss: 0.0014\n",
            "Epoch 10/25\n",
            "60/60 [==============================] - 6s 92ms/step - loss: 0.0016\n",
            "Epoch 11/25\n",
            "60/60 [==============================] - 5s 90ms/step - loss: 0.0013\n",
            "Epoch 12/25\n",
            "60/60 [==============================] - 5s 90ms/step - loss: 0.0012\n",
            "Epoch 13/25\n",
            "60/60 [==============================] - 5s 85ms/step - loss: 0.0011\n",
            "Epoch 14/25\n",
            "60/60 [==============================] - 6s 93ms/step - loss: 0.0014\n",
            "Epoch 15/25\n",
            "60/60 [==============================] - 6s 97ms/step - loss: 0.0011\n",
            "Epoch 16/25\n",
            "60/60 [==============================] - 5s 88ms/step - loss: 9.7656e-04\n",
            "Epoch 17/25\n",
            "60/60 [==============================] - 5s 90ms/step - loss: 0.0013\n",
            "Epoch 18/25\n",
            "60/60 [==============================] - 5s 89ms/step - loss: 0.0010\n",
            "Epoch 19/25\n",
            "60/60 [==============================] - 5s 87ms/step - loss: 0.0010\n",
            "Epoch 20/25\n",
            "60/60 [==============================] - 5s 89ms/step - loss: 8.9241e-04\n",
            "Epoch 21/25\n",
            "60/60 [==============================] - 6s 94ms/step - loss: 9.0220e-04\n",
            "Epoch 22/25\n",
            "60/60 [==============================] - 5s 86ms/step - loss: 7.1559e-04\n",
            "Epoch 23/25\n",
            "60/60 [==============================] - 5s 84ms/step - loss: 8.7961e-04\n",
            "Epoch 24/25\n",
            "60/60 [==============================] - 5s 90ms/step - loss: 6.6325e-04\n",
            "Epoch 25/25\n",
            "60/60 [==============================] - 5s 90ms/step - loss: 8.8826e-04\n"
          ],
          "name": "stdout"
        },
        {
          "output_type": "execute_result",
          "data": {
            "text/plain": [
              "<tensorflow.python.keras.callbacks.History at 0x7fb79f219550>"
            ]
          },
          "metadata": {
            "tags": []
          },
          "execution_count": 27
        }
      ]
    },
    {
      "cell_type": "markdown",
      "metadata": {
        "id": "WWnIy_l06-YH"
      },
      "source": [
        "Load test data"
      ]
    },
    {
      "cell_type": "code",
      "metadata": {
        "id": "XVcXsCjj688L"
      },
      "source": [
        "test_start = dt.datetime(2021,1,1)\r\n",
        "test_end = dt.datetime.now()\r\n",
        "\r\n",
        "test_data = web.DataReader(crypto,'yahoo', test_start, test_end)\r\n",
        "actual_prices = test_data['Adj Close'].values\r\n",
        "\r\n",
        "total_dataset = pd.concat((data['Adj Close'], test_data['Adj Close']), axis=0)\r\n",
        "\r\n",
        "model_inputs = total_dataset[len(total_dataset) - len(test_data) - prediction_days:].values\r\n",
        "model_inputs = model_inputs.reshape(-1, 1)\r\n",
        "model_inputs = scaler.transform(model_inputs)"
      ],
      "execution_count": null,
      "outputs": []
    },
    {
      "cell_type": "markdown",
      "metadata": {
        "id": "BcWyg78tFYF7"
      },
      "source": [
        "Make predictions on test data"
      ]
    },
    {
      "cell_type": "code",
      "metadata": {
        "id": "feCH5ltnFcWn"
      },
      "source": [
        "x_test = []\r\n",
        "\r\n",
        "for x in range(prediction_days, len(model_inputs)+1):\r\n",
        "  x_test.append(model_inputs[x-prediction_days:x, 0])\r\n",
        "\r\n",
        "x_test = np.array(x_test)\r\n",
        "x_test = np.reshape(x_test, (x_test.shape[0], x_test.shape[1], 1))\r\n",
        "\r\n",
        "predicted_prices = model.predict(x_test)\r\n",
        "predicted_prices = scaler.inverse_transform(predicted_prices)"
      ],
      "execution_count": null,
      "outputs": []
    },
    {
      "cell_type": "markdown",
      "metadata": {
        "id": "O0qWvyePqCLe"
      },
      "source": [
        "Plot the test predictions"
      ]
    },
    {
      "cell_type": "code",
      "metadata": {
        "colab": {
          "base_uri": "https://localhost:8080/",
          "height": 295
        },
        "id": "KG5qklvhqEtz",
        "outputId": "b57d50c9-a552-44ba-962f-f90b6604d20e"
      },
      "source": [
        "plt.plot(actual_prices, color=\"black\", label=f\"Actual {crypto} Price\")\r\n",
        "plt.plot(predicted_prices, color=\"green\", label=f\"Predicted {crypto} Price\")\r\n",
        "plt.title(f\"{crypto}\")\r\n",
        "plt.xlabel('Time')\r\n",
        "plt.ylabel(f\"{crypto} Price\")\r\n",
        "plt.legend()\r\n",
        "plt.show()"
      ],
      "execution_count": null,
      "outputs": [
        {
          "output_type": "display_data",
          "data": {
            "image/png": "[encoded data removed]",
            "text/plain": [
              "<Figure size 432x288 with 1 Axes>"
            ]
          },
          "metadata": {
            "tags": [],
            "needs_background": "light"
          }
        }
      ]
    },
    {
      "cell_type": "markdown",
      "metadata": {
        "id": "MKzDtQHsr5L_"
      },
      "source": [
        "Predict Next Day"
      ]
    },
    {
      "cell_type": "code",
      "metadata": {
        "colab": {
          "base_uri": "https://localhost:8080/"
        },
        "id": "43IOuszPr4CU",
        "outputId": "48d4e0b4-1913-4efb-f73f-3497b0ba9c8f"
      },
      "source": [
        "real_data = [model_inputs[len(model_inputs) + 1 - prediction_days:len(model_inputs+1), 0]]\r\n",
        "real_data = np.array(real_data)\r\n",
        "real_data = np.reshape(real_data, (real_data.shape[0], real_data.shape[1], 1))\r\n",
        "\r\n",
        "prediction = model.predict(real_data)\r\n",
        "prediction = scaler.inverse_transform(prediction)\r\n",
        "print(f\"Prediction:{prediction}\")"
      ],
      "execution_count": null,
      "outputs": [
        {
          "output_type": "stream",
          "text": [
            "WARNING:tensorflow:Model was constructed with shape (None, 60, 1) for input KerasTensor(type_spec=TensorSpec(shape=(None, 60, 1), dtype=tf.float32, name='lstm_6_input'), name='lstm_6_input', description=\"created by layer 'lstm_6_input'\"), but it was called on an input with incompatible shape (None, 59, 1).\n",
            "Prediction:[[1641.597]]\n"
          ],
          "name": "stdout"
        }
      ]
    }
  ]
}