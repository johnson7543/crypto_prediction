{
  "nbformat": 4,
  "nbformat_minor": 0,
  "metadata": {
    "colab": {
      "name": "cryto_predict.ipynb",
      "provenance": [],
      "authorship_tag": "ABX9TyNjXcbfYUFOnPTiXkjgR01f",
      "include_colab_link": true
    },
    "kernelspec": {
      "name": "python3",
      "display_name": "Python 3"
    }
  },
  "cells": [
    {
      "cell_type": "markdown",
      "metadata": {
        "id": "view-in-github",
        "colab_type": "text"
      },
      "source": [
        "<a href=\"https://colab.research.google.com/github/johnson7543/crypto_prediction/blob/main/cryto_predict.ipynb\" target=\"_parent\"><img src=\"https://colab.research.google.com/assets/colab-badge.svg\" alt=\"Open In Colab\"/></a>"
      ]
    },
    {
      "cell_type": "code",
      "metadata": {
        "id": "vv1Yo4_yy-nR"
      },
      "source": [
        "import numpy as np\r\n",
        "import matplotlib.pyplot as plt\r\n",
        "import pandas as pd\r\n",
        "import pandas_datareader as web\r\n",
        "import datetime as dt\r\n",
        "\r\n",
        "from sklearn.preprocessing import MinMaxScaler\r\n",
        "from tensorflow.keras.models import Sequential\r\n",
        "from tensorflow.keras.layers import Dense, Dropout, LSTM"
      ],
      "execution_count": null,
      "outputs": []
    },
    {
      "cell_type": "code",
      "metadata": {
        "colab": {
          "base_uri": "https://localhost:8080/"
        },
        "id": "Szx7oiYx3f88",
        "outputId": "11d86ab4-c1b5-4f56-ac12-307c5d327037"
      },
      "source": [
        "crypto = 'ETH-USD'\r\n",
        "start = dt.datetime(2012,1,1)\r\n",
        "end = dt.datetime(2020,1,1)\r\n",
        "\r\n",
        "# data = web.DataReader(company, 'yahoo', start, end)\r\n",
        "data = web.DataReader(crypto,'yahoo', start, end)\r\n",
        "print(data)"
      ],
      "execution_count": null,
      "outputs": [
        {
          "output_type": "stream",
          "text": [
            "                  High         Low  ...      Volume   Adj Close\n",
            "Date                                ...                        \n",
            "2015-08-06    3.536610    2.521120  ...      164329    2.772120\n",
            "2015-08-07    2.798810    0.714725  ...      674188    0.753325\n",
            "2015-08-08    0.879810    0.629191  ...      532170    0.701897\n",
            "2015-08-09    0.729854    0.636546  ...      405283    0.708448\n",
            "2015-08-10    1.131410    0.663235  ...     1463100    1.067860\n",
            "...                ...         ...  ...         ...         ...\n",
            "2019-12-29  136.811203  127.997658  ...  9708776786  134.757980\n",
            "2019-12-30  136.757355  131.545563  ...  9796951716  132.633484\n",
            "2019-12-31  133.732681  128.798157  ...  8936866397  129.610855\n",
            "2020-01-01  132.835358  129.198288  ...  7935230330  130.802002\n",
            "2020-01-02  130.820038  126.954910  ...  8032709256  127.410179\n",
            "\n",
            "[1610 rows x 6 columns]\n"
          ],
          "name": "stdout"
        }
      ]
    },
    {
      "cell_type": "code",
      "metadata": {
        "id": "3KfECytZ41Vm"
      },
      "source": [
        "scaler =MinMaxScaler(feature_range=(0,1))\r\n",
        "scaled_data = scaler.fit_transform(data_cryto['Adj Close'].values.reshape(-1,1))\r\n",
        "prediction_days = 60\r\n",
        "x_train = []\r\n",
        "y_train = []\r\n",
        "\r\n",
        "for x in range(prediction_days, len(scaled_data)):\r\n",
        "  x_train.append(scaled_data[x-prediction_days:x, 0])\r\n",
        "  y_train.append(scaled_data[x, 0])\r\n",
        "\r\n",
        "x_train, y_train = np.array(x_train), np.array(y_train)\r\n",
        "x_train = np.reshape(x_train, (x_train.shape[0], x_train.shape[1],1))"
      ],
      "execution_count": null,
      "outputs": []
    },
    {
      "cell_type": "markdown",
      "metadata": {
        "id": "a-lm2b_U6eRU"
      },
      "source": [
        "Build the model"
      ]
    },
    {
      "cell_type": "code",
      "metadata": {
        "colab": {
          "base_uri": "https://localhost:8080/"
        },
        "id": "RqggjZ6Q55Uz",
        "outputId": "27e834fd-85a4-4b3b-c616-97e3bc659671"
      },
      "source": [
        "model = Sequential()\r\n",
        "model.add(LSTM(units=50, return_sequences=True, input_shape=(x_train.shape[1], 1)))\r\n",
        "model.add(Dropout(0.2))\r\n",
        "model.add(LSTM(units=50, return_sequences=True))\r\n",
        "model.add(Dropout(0.2))\r\n",
        "model.add(LSTM(units=50))\r\n",
        "model.add(Dropout(0.2))\r\n",
        "model.add(Dense(units=1)) # Prediction of the next closing value\r\n",
        "\r\n",
        "model.compile(optimizer='adam',loss='mean_squared_error')\r\n",
        "model.fit(x_train, y_train, epochs=25, batch_size=32)"
      ],
      "execution_count": null,
      "outputs": [
        {
          "output_type": "stream",
          "text": [
            "Epoch 1/25\n",
            "72/72 [==============================] - 7s 54ms/step - loss: 0.0062\n",
            "Epoch 2/25\n",
            "72/72 [==============================] - 4s 55ms/step - loss: 0.0010\n",
            "Epoch 3/25\n",
            "72/72 [==============================] - 4s 57ms/step - loss: 0.0010\n",
            "Epoch 4/25\n",
            "72/72 [==============================] - 4s 57ms/step - loss: 6.9805e-04\n",
            "Epoch 5/25\n",
            "72/72 [==============================] - 4s 57ms/step - loss: 0.0012\n",
            "Epoch 6/25\n",
            "72/72 [==============================] - 4s 56ms/step - loss: 9.6127e-04\n",
            "Epoch 7/25\n",
            "72/72 [==============================] - 4s 56ms/step - loss: 6.8361e-04\n",
            "Epoch 8/25\n",
            "72/72 [==============================] - 4s 56ms/step - loss: 6.8538e-04\n",
            "Epoch 9/25\n",
            "72/72 [==============================] - 4s 57ms/step - loss: 6.7374e-04\n",
            "Epoch 10/25\n",
            "72/72 [==============================] - 4s 57ms/step - loss: 4.8684e-04\n",
            "Epoch 11/25\n",
            "72/72 [==============================] - 4s 58ms/step - loss: 4.7765e-04\n",
            "Epoch 12/25\n",
            "72/72 [==============================] - 4s 57ms/step - loss: 5.1304e-04\n",
            "Epoch 13/25\n",
            "72/72 [==============================] - 4s 57ms/step - loss: 5.2582e-04\n",
            "Epoch 14/25\n",
            "72/72 [==============================] - 4s 57ms/step - loss: 5.3822e-04\n",
            "Epoch 15/25\n",
            "72/72 [==============================] - 4s 56ms/step - loss: 5.5349e-04\n",
            "Epoch 16/25\n",
            "72/72 [==============================] - 4s 58ms/step - loss: 4.2957e-04\n",
            "Epoch 17/25\n",
            "72/72 [==============================] - 4s 56ms/step - loss: 4.4535e-04\n",
            "Epoch 18/25\n",
            "72/72 [==============================] - 4s 57ms/step - loss: 3.8743e-04\n",
            "Epoch 19/25\n",
            "72/72 [==============================] - 4s 58ms/step - loss: 4.5952e-04\n",
            "Epoch 20/25\n",
            "72/72 [==============================] - 4s 58ms/step - loss: 7.9439e-04\n",
            "Epoch 21/25\n",
            "72/72 [==============================] - 4s 58ms/step - loss: 3.8729e-04\n",
            "Epoch 22/25\n",
            "72/72 [==============================] - 4s 58ms/step - loss: 2.9901e-04\n",
            "Epoch 23/25\n",
            "72/72 [==============================] - 4s 57ms/step - loss: 4.5635e-04\n",
            "Epoch 24/25\n",
            "72/72 [==============================] - 4s 58ms/step - loss: 4.7637e-04\n",
            "Epoch 25/25\n",
            "72/72 [==============================] - 4s 59ms/step - loss: 4.2935e-04\n"
          ],
          "name": "stdout"
        },
        {
          "output_type": "execute_result",
          "data": {
            "text/plain": [
              "<tensorflow.python.keras.callbacks.History at 0x7fe609586310>"
            ]
          },
          "metadata": {
            "tags": []
          },
          "execution_count": 77
        }
      ]
    },
    {
      "cell_type": "markdown",
      "metadata": {
        "id": "WWnIy_l06-YH"
      },
      "source": [
        "Load test data"
      ]
    },
    {
      "cell_type": "code",
      "metadata": {
        "id": "XVcXsCjj688L"
      },
      "source": [
        "test_start = dt.datetime(2020,1,1)\r\n",
        "test_end = dt.datetime.now()\r\n",
        "\r\n",
        "start = dt.datetime(2021,1,1)\r\n",
        "end = dt.datetime(2021,3,11)\r\n",
        "\r\n",
        "test_data = web.DataReader(crypto,'yahoo', start, end)\r\n",
        "actual_prices = test_data['Adj Close'].values\r\n",
        "\r\n",
        "total_dataset = pd.concat((data['Adj Close'], test_data['Adj Close']), axis=0)\r\n",
        "\r\n",
        "model_inputs = total_dataset[len(total_dataset) - len(test_data) - prediction_days:].values\r\n",
        "model_inputs = model_inputs.reshape(-1, 1)\r\n",
        "model_inputs = scaler.transform(model_inputs)"
      ],
      "execution_count": null,
      "outputs": []
    },
    {
      "cell_type": "markdown",
      "metadata": {
        "id": "BcWyg78tFYF7"
      },
      "source": [
        "Make predictions on test data"
      ]
    },
    {
      "cell_type": "code",
      "metadata": {
        "id": "feCH5ltnFcWn"
      },
      "source": [
        "x_test = []\r\n",
        "\r\n",
        "for x in range(prediction_days, len(model_inputs)+1):\r\n",
        "  x_test.append(model_inputs[x-prediction_days:x, 0])\r\n",
        "\r\n",
        "x_test = np.array(x_test)\r\n",
        "x_test = np.reshape(x_test, (x_test.shape[0], x_test.shape[1], 1))\r\n",
        "\r\n",
        "predicted_prices = model.predict(x_test)\r\n",
        "predicted_prices = scaler.inverse_transform(predicted_prices)"
      ],
      "execution_count": 83,
      "outputs": []
    },
    {
      "cell_type": "markdown",
      "metadata": {
        "id": "O0qWvyePqCLe"
      },
      "source": [
        "Plot the test predictions"
      ]
    },
    {
      "cell_type": "code",
      "metadata": {
        "colab": {
          "base_uri": "https://localhost:8080/",
          "height": 295
        },
        "id": "KG5qklvhqEtz",
        "outputId": "273498cc-d504-4c78-d8c9-604389ea71c6"
      },
      "source": [
        "plt.plot(actual_prices, color=\"black\", label=f\"Actual {crypto} Price\")\r\n",
        "plt.plot(predicted_prices, color=\"green\", label=f\"Predicted {crypto} Price\")\r\n",
        "plt.title(f\"{crypto}\")\r\n",
        "plt.xlabel('Time')\r\n",
        "plt.ylabel(f\"{crypto} Price\")\r\n",
        "plt.legend()\r\n",
        "plt.show()"
      ],
      "execution_count": 84,
      "outputs": [
        {
          "output_type": "display_data",
          "data": {
            "image/png": "[encoded data removed]",
            "text/plain": [
              "<Figure size 432x288 with 1 Axes>"
            ]
          },
          "metadata": {
            "tags": [],
            "needs_background": "light"
          }
        }
      ]
    },
    {
      "cell_type": "markdown",
      "metadata": {
        "id": "MKzDtQHsr5L_"
      },
      "source": [
        "Predict Next Day"
      ]
    },
    {
      "cell_type": "code",
      "metadata": {
        "colab": {
          "base_uri": "https://localhost:8080/"
        },
        "id": "43IOuszPr4CU",
        "outputId": "e9e68220-3b5c-47af-cfaa-523d2157aa33"
      },
      "source": [
        "real_data = [model_inputs[len(model_inputs) + 1 - prediction_days:len(model_inputs+1), 0]]\r\n",
        "real_data = np.array(real_data)\r\n",
        "real_data = np.reshape(real_data, (real_data.shape[0], real_data.shape[1], 1))\r\n",
        "\r\n",
        "prediction = model.predict(real_data)\r\n",
        "prediction = scaler.inverse_transform(prediction)\r\n",
        "print(f\"Prediction:{prediction}\")"
      ],
      "execution_count": 86,
      "outputs": [
        {
          "output_type": "stream",
          "text": [
            "Prediction:[[1702.337]]\n"
          ],
          "name": "stdout"
        }
      ]
    }
  ]
}